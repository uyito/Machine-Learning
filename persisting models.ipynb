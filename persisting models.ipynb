{
 "cells": [
  {
   "cell_type": "code",
   "execution_count": 4,
   "metadata": {},
   "outputs": [
    {
     "data": {
      "text/plain": [
       "array(['HipHop'], dtype=object)"
      ]
     },
     "execution_count": 4,
     "metadata": {},
     "output_type": "execute_result"
    }
   ],
   "source": [
    "import pandas as pd\n",
    "from sklearn.tree import DecisionTreeClassifier\n",
    "from sklearn.externals import joblib\n",
    "\n",
    "# read = pd.read_csv('music.csv')\n",
    "# x= read.drop(columns=['genre'])\n",
    "# y= read['genre']\n",
    "# # x_tr, x_te, y_tr, y_te = train_test_split(x, y, test_size = 0.2)\n",
    "\n",
    "# model = DecisionTreeClassifier()\n",
    "\n",
    "# model.fit(x,y)\n",
    "\n",
    "model = joblib.load('music-recommender.joblib')\n",
    "predictions = model. predict([[21,1]])\n",
    "predictions"
   ]
  }
 ],
 "metadata": {
  "kernelspec": {
   "display_name": "Python 3",
   "language": "python",
   "name": "python3"
  },
  "language_info": {
   "codemirror_mode": {
    "name": "ipython",
    "version": 3
   },
   "file_extension": ".py",
   "mimetype": "text/x-python",
   "name": "python",
   "nbconvert_exporter": "python",
   "pygments_lexer": "ipython3",
   "version": "3.7.3"
  }
 },
 "nbformat": 4,
 "nbformat_minor": 2
}
